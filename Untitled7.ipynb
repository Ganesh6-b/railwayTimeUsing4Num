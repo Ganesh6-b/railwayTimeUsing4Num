{
 "cells": [
  {
   "cell_type": "code",
   "execution_count": 1,
   "metadata": {},
   "outputs": [],
   "source": [
    "#matrix problem....total count of number lesser than M[i,j] and greater than M[i2,j2] in that matrix"
   ]
  },
  {
   "cell_type": "code",
   "execution_count": 28,
   "metadata": {},
   "outputs": [],
   "source": [
    "import numpy as np"
   ]
  },
  {
   "cell_type": "code",
   "execution_count": 29,
   "metadata": {},
   "outputs": [],
   "source": [
    "mat = np.random.randint(1,100,25).reshape(5,5)"
   ]
  },
  {
   "cell_type": "code",
   "execution_count": 30,
   "metadata": {},
   "outputs": [
    {
     "data": {
      "text/plain": [
       "array([[22, 55, 67, 32, 31],\n",
       "       [91, 40, 32, 17, 47],\n",
       "       [76, 67, 87, 94, 13],\n",
       "       [17, 93, 30, 45, 94],\n",
       "       [97, 15, 23, 83, 10]])"
      ]
     },
     "execution_count": 30,
     "metadata": {},
     "output_type": "execute_result"
    }
   ],
   "source": [
    "mat"
   ]
  },
  {
   "cell_type": "code",
   "execution_count": 31,
   "metadata": {},
   "outputs": [
    {
     "name": "stdout",
     "output_type": "stream",
     "text": [
      "Enter the first numbers:3 0\n",
      "Enter the second numbers:3 2\n"
     ]
    }
   ],
   "source": [
    "i,j = map(int, input(\"Enter the first numbers:\").split())\n",
    "i2,j2 = map(int, input(\"Enter the second numbers:\").split())\n",
    "    "
   ]
  },
  {
   "cell_type": "code",
   "execution_count": 32,
   "metadata": {},
   "outputs": [
    {
     "name": "stdout",
     "output_type": "stream",
     "text": [
      "i : 3, j : 0, i2 : 3, j2 : 2\n",
      "Number lesserthan 17 and greater than 30\n"
     ]
    }
   ],
   "source": [
    "print(\"i : {}, j : {}, i2 : {}, j2 : {}\".format(i, j, i2,j2))\n",
    "print(\"Number lesserthan {} and greater than {}\".format(mat[i,j], mat[i2,j2]))"
   ]
  },
  {
   "cell_type": "code",
   "execution_count": 33,
   "metadata": {},
   "outputs": [],
   "source": [
    "lst = []\n",
    "for a in range(5):\n",
    "    for b in range(5):\n",
    "        if mat[i,j]>mat[i2,j2]:\n",
    "            if ((mat[a,b] < mat[i,j]) and (mat[a,b] > mat[i2,j2])):\n",
    "                lst.append(mat[a,b])\n",
    "        elif mat[i2,j2]>mat[i,j]:\n",
    "            if ((mat[a,b] < mat[i2,j2]) and (mat[a,b] > mat[i,j])):\n",
    "                lst.append(mat[a,b])"
   ]
  },
  {
   "cell_type": "code",
   "execution_count": 35,
   "metadata": {},
   "outputs": [
    {
     "name": "stdout",
     "output_type": "stream",
     "text": [
      "[22, 23]\n"
     ]
    },
    {
     "data": {
      "text/plain": [
       "2"
      ]
     },
     "execution_count": 35,
     "metadata": {},
     "output_type": "execute_result"
    }
   ],
   "source": [
    "print(lst)\n",
    "len(lst)"
   ]
  },
  {
   "cell_type": "code",
   "execution_count": null,
   "metadata": {},
   "outputs": [],
   "source": []
  },
  {
   "cell_type": "code",
   "execution_count": null,
   "metadata": {},
   "outputs": [],
   "source": []
  }
 ],
 "metadata": {
  "kernelspec": {
   "display_name": "Python 3",
   "language": "python",
   "name": "python3"
  },
  "language_info": {
   "codemirror_mode": {
    "name": "ipython",
    "version": 3
   },
   "file_extension": ".py",
   "mimetype": "text/x-python",
   "name": "python",
   "nbconvert_exporter": "python",
   "pygments_lexer": "ipython3",
   "version": "3.7.4"
  }
 },
 "nbformat": 4,
 "nbformat_minor": 2
}
